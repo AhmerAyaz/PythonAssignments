{
 "cells": [
  {
   "cell_type": "code",
   "execution_count": 5,
   "metadata": {},
   "outputs": [
    {
     "name": "stdout",
     "output_type": "stream",
     "text": [
      "Enter first value: 6\n",
      "Enter second value: 3\n",
      "Enter operator: /\n",
      "2.0 answer\n"
     ]
    }
   ],
   "source": [
    "val1 = int(input('Enter first value: '))\n",
    "val2 = int(input('Enter second value: '))\n",
    "operator = input(\"Enter operator: \")\n",
    "\n",
    "if operator == '+':\n",
    "    ans = val1 + val2\n",
    "    print(ans,\"answer\")\n",
    "elif operator == '-':\n",
    "    ans = val1-val2\n",
    "    print(ans,\"answer\")\n",
    "elif operator == '/':\n",
    "    ans = val1/val2\n",
    "    print(ans,\"answer\")\n",
    "elif operator == '*':\n",
    "    ans = val1*val2\n",
    "    print(ans,\"answer\")\n",
    "else:\n",
    "    print(\"Enter correct operator\")"
   ]
  },
  {
   "cell_type": "code",
   "execution_count": 26,
   "metadata": {},
   "outputs": [
    {
     "name": "stdout",
     "output_type": "stream",
     "text": [
      "5 Numeric value exists\n"
     ]
    }
   ],
   "source": [
    "thislist = [\"apple\", \"banana\", \"cherry\", \"5\", \"kiwi\", \"melon\", \"mango\"]\n",
    "for x in thislist:\n",
    "    if(x.isdigit()):\n",
    "        print(x,\"Numeric value exists\")"
   ]
  },
  {
   "cell_type": "code",
   "execution_count": 35,
   "metadata": {},
   "outputs": [
    {
     "name": "stdout",
     "output_type": "stream",
     "text": [
      "123\n"
     ]
    }
   ],
   "source": [
    "customer = {\"first name\":\"Ahmer\",\"last name\":\"Ayaz\",\"department\":\"Compute Science\"}\n",
    "customer[\"roll number\"] = \"123\"\n",
    "print(customer[\"roll number\"])\n"
   ]
  },
  {
   "cell_type": "code",
   "execution_count": 36,
   "metadata": {},
   "outputs": [
    {
     "name": "stdout",
     "output_type": "stream",
     "text": [
      "123\n"
     ]
    }
   ],
   "source": [
    "customer = {\"first name\":\"Ahmer\",\"last name\":\"Ayaz\",\"department\":\"Compute Science\"}\n",
    "customer[\"roll number\"] = \"123\"\n",
    "print(customer[\"roll number\"])"
   ]
  },
  {
   "cell_type": "code",
   "execution_count": 43,
   "metadata": {},
   "outputs": [
    {
     "name": "stdout",
     "output_type": "stream",
     "text": [
      "['red'] Duplicates\n"
     ]
    }
   ],
   "source": [
    "a = [\"blue\",\"red\",\"green\",\"red\"];\n",
    "seen = {}\n",
    "dupes = []\n",
    "\n",
    "for x in a:\n",
    "    if x not in seen:\n",
    "        seen[x] = 1\n",
    "    else:\n",
    "        if seen[x] == 1:\n",
    "            dupes.append(x)\n",
    "        seen[x] += 1\n",
    "print(dupes,\"Duplicates\")"
   ]
  },
  {
   "cell_type": "code",
   "execution_count": 57,
   "metadata": {},
   "outputs": [
    {
     "name": "stdout",
     "output_type": "stream",
     "text": [
      "Key exists\n"
     ]
    }
   ],
   "source": [
    "customer = {\"first name\":\"Ahmer\",\"last name\":\"Ayaz\",\"department\":\"Compute Science\"}\n",
    "if \"first name\" in customer:\n",
    "    print(\"Key exists\")\n",
    "else:\n",
    "    print(\"Key doesn't exist\")"
   ]
  },
  {
   "cell_type": "code",
   "execution_count": 60,
   "metadata": {},
   "outputs": [
    {
     "data": {
      "text/plain": [
       "6"
      ]
     },
     "execution_count": 60,
     "metadata": {},
     "output_type": "execute_result"
    }
   ],
   "source": [
    "customer = {\"first\":1,\"second\":2,\"third\":3}\n",
    "sum(customer.values())"
   ]
  },
  {
   "cell_type": "code",
   "execution_count": null,
   "metadata": {},
   "outputs": [],
   "source": []
  }
 ],
 "metadata": {
  "kernelspec": {
   "display_name": "Python 3",
   "language": "python",
   "name": "python3"
  },
  "language_info": {
   "codemirror_mode": {
    "name": "ipython",
    "version": 3
   },
   "file_extension": ".py",
   "mimetype": "text/x-python",
   "name": "python",
   "nbconvert_exporter": "python",
   "pygments_lexer": "ipython3",
   "version": "3.7.4"
  }
 },
 "nbformat": 4,
 "nbformat_minor": 2
}
