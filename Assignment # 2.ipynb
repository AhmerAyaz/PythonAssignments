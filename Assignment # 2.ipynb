{
 "cells": [
  {
   "cell_type": "code",
   "execution_count": 14,
   "metadata": {},
   "outputs": [
    {
     "name": "stdout",
     "output_type": "stream",
     "text": [
      "Enter marks out of 20 in Science: 20\n",
      "Enter marks out of 20 in Maths: 5\n",
      "Enter marks out of 20 in English: 15\n",
      "Enter marks out of 20 in Chemistry: 10\n",
      "Enter marks out of 20 in Physics: 10\n",
      "C\n"
     ]
    }
   ],
   "source": [
    "Science = int(input(\"Enter marks out of 20 in Science: \"));\n",
    "Maths = int(input(\"Enter marks out of 20 in Maths: \"));\n",
    "English = int(input(\"Enter marks out of 20 in English: \"));\n",
    "Chemistry = int(input(\"Enter marks out of 20 in Chemistry: \"));\n",
    "Physics = int(input(\"Enter marks out of 20 in Physics: \"));\n",
    "total = Science + Maths + Chemistry + English + Physics;\n",
    "if total >= 80 and total <= 100:\n",
    "    grade = 'A';\n",
    "elif total < 80 and total >= 70:\n",
    "    grade = 'B';\n",
    "elif total < 70 and total >= 60:\n",
    "    grade = 'C';\n",
    "elif total < 60 and total >= 50:\n",
    "    grade = 'D';\n",
    "elif total < 50:\n",
    "    grade = 'F';\n",
    "print(grade);"
   ]
  },
  {
   "cell_type": "code",
   "execution_count": 19,
   "metadata": {},
   "outputs": [
    {
     "name": "stdout",
     "output_type": "stream",
     "text": [
      "Please enter a number: 544\n",
      "Number is Even\n"
     ]
    }
   ],
   "source": [
    "number = int(input(\"Please enter a number: \"));\n",
    "if number % 2 == 0:\n",
    "    print(\"Number is Even\");\n",
    "else:\n",
    "    print(\"Number is Odd\");"
   ]
  },
  {
   "cell_type": "code",
   "execution_count": 18,
   "metadata": {},
   "outputs": [
    {
     "name": "stdout",
     "output_type": "stream",
     "text": [
      "4\n"
     ]
    }
   ],
   "source": [
    "names = [\"donald\", \"joe\", \"edward\",\"stewart\"];\n",
    "print(len(names));"
   ]
  },
  {
   "cell_type": "code",
   "execution_count": 6,
   "metadata": {},
   "outputs": [
    {
     "name": "stdout",
     "output_type": "stream",
     "text": [
      "32\n"
     ]
    }
   ],
   "source": [
    "numbers = [2, 5, 9, 1, 4, 8, 3];\n",
    "print(sum(numbers));"
   ]
  },
  {
   "cell_type": "code",
   "execution_count": 7,
   "metadata": {},
   "outputs": [
    {
     "name": "stdout",
     "output_type": "stream",
     "text": [
      "9\n"
     ]
    }
   ],
   "source": [
    "numbers = [2, 5, 9, 1, 4, 8, 3];\n",
    "print(max(numbers));"
   ]
  },
  {
   "cell_type": "code",
   "execution_count": 11,
   "metadata": {},
   "outputs": [
    {
     "name": "stdout",
     "output_type": "stream",
     "text": [
      "1\n",
      "1\n",
      "2\n",
      "3\n"
     ]
    }
   ],
   "source": [
    "a = [1,1,2,3,5,8,13,21,34,55,89];\n",
    "\n",
    "for x in a :\n",
    "    if x < 5 :\n",
    "        print(x);"
   ]
  },
  {
   "cell_type": "code",
   "execution_count": null,
   "metadata": {},
   "outputs": [],
   "source": []
  }
 ],
 "metadata": {
  "kernelspec": {
   "display_name": "Python 3",
   "language": "python",
   "name": "python3"
  },
  "language_info": {
   "codemirror_mode": {
    "name": "ipython",
    "version": 3
   },
   "file_extension": ".py",
   "mimetype": "text/x-python",
   "name": "python",
   "nbconvert_exporter": "python",
   "pygments_lexer": "ipython3",
   "version": "3.7.4"
  }
 },
 "nbformat": 4,
 "nbformat_minor": 2
}
